{
 "cells": [
  {
   "cell_type": "code",
   "execution_count": 1,
   "id": "3bff9628-0e77-4080-a0d3-88d551d32fea",
   "metadata": {},
   "outputs": [],
   "source": [
    "#compare the productivity between Employment_Type \n",
    "\n",
    "import pandas as pd\n",
    "import numpy as np\n",
    "import matplotlib.pyplot as plt"
   ]
  },
  {
   "cell_type": "code",
   "execution_count": 2,
   "id": "a79aec2d-6737-42f2-9e45-555a338d0094",
   "metadata": {},
   "outputs": [],
   "source": [
    "df = pd.read_csv(\"remote_work_productivity.csv\")"
   ]
  },
  {
   "cell_type": "code",
   "execution_count": 3,
   "id": "fb6398d5-39c0-4f6a-9b0b-1c414d793ae7",
   "metadata": {},
   "outputs": [
    {
     "data": {
      "text/html": [
       "<div>\n",
       "<style scoped>\n",
       "    .dataframe tbody tr th:only-of-type {\n",
       "        vertical-align: middle;\n",
       "    }\n",
       "\n",
       "    .dataframe tbody tr th {\n",
       "        vertical-align: top;\n",
       "    }\n",
       "\n",
       "    .dataframe thead th {\n",
       "        text-align: right;\n",
       "    }\n",
       "</style>\n",
       "<table border=\"1\" class=\"dataframe\">\n",
       "  <thead>\n",
       "    <tr style=\"text-align: right;\">\n",
       "      <th></th>\n",
       "      <th>Employee_ID</th>\n",
       "      <th>Employment_Type</th>\n",
       "      <th>Hours_Worked_Per_Week</th>\n",
       "      <th>Productivity_Score</th>\n",
       "      <th>Well_Being_Score</th>\n",
       "    </tr>\n",
       "  </thead>\n",
       "  <tbody>\n",
       "    <tr>\n",
       "      <th>0</th>\n",
       "      <td>1</td>\n",
       "      <td>Remote</td>\n",
       "      <td>29</td>\n",
       "      <td>75</td>\n",
       "      <td>78</td>\n",
       "    </tr>\n",
       "    <tr>\n",
       "      <th>1</th>\n",
       "      <td>2</td>\n",
       "      <td>In-Office</td>\n",
       "      <td>45</td>\n",
       "      <td>49</td>\n",
       "      <td>47</td>\n",
       "    </tr>\n",
       "    <tr>\n",
       "      <th>2</th>\n",
       "      <td>3</td>\n",
       "      <td>Remote</td>\n",
       "      <td>34</td>\n",
       "      <td>74</td>\n",
       "      <td>89</td>\n",
       "    </tr>\n",
       "    <tr>\n",
       "      <th>3</th>\n",
       "      <td>4</td>\n",
       "      <td>Remote</td>\n",
       "      <td>25</td>\n",
       "      <td>81</td>\n",
       "      <td>84</td>\n",
       "    </tr>\n",
       "    <tr>\n",
       "      <th>4</th>\n",
       "      <td>5</td>\n",
       "      <td>Remote</td>\n",
       "      <td>50</td>\n",
       "      <td>70</td>\n",
       "      <td>74</td>\n",
       "    </tr>\n",
       "    <tr>\n",
       "      <th>...</th>\n",
       "      <td>...</td>\n",
       "      <td>...</td>\n",
       "      <td>...</td>\n",
       "      <td>...</td>\n",
       "      <td>...</td>\n",
       "    </tr>\n",
       "    <tr>\n",
       "      <th>995</th>\n",
       "      <td>996</td>\n",
       "      <td>Remote</td>\n",
       "      <td>33</td>\n",
       "      <td>88</td>\n",
       "      <td>82</td>\n",
       "    </tr>\n",
       "    <tr>\n",
       "      <th>996</th>\n",
       "      <td>997</td>\n",
       "      <td>Remote</td>\n",
       "      <td>33</td>\n",
       "      <td>88</td>\n",
       "      <td>73</td>\n",
       "    </tr>\n",
       "    <tr>\n",
       "      <th>997</th>\n",
       "      <td>998</td>\n",
       "      <td>In-Office</td>\n",
       "      <td>45</td>\n",
       "      <td>74</td>\n",
       "      <td>61</td>\n",
       "    </tr>\n",
       "    <tr>\n",
       "      <th>998</th>\n",
       "      <td>999</td>\n",
       "      <td>In-Office</td>\n",
       "      <td>57</td>\n",
       "      <td>50</td>\n",
       "      <td>52</td>\n",
       "    </tr>\n",
       "    <tr>\n",
       "      <th>999</th>\n",
       "      <td>1000</td>\n",
       "      <td>Remote</td>\n",
       "      <td>34</td>\n",
       "      <td>80</td>\n",
       "      <td>82</td>\n",
       "    </tr>\n",
       "  </tbody>\n",
       "</table>\n",
       "<p>1000 rows × 5 columns</p>\n",
       "</div>"
      ],
      "text/plain": [
       "     Employee_ID Employment_Type  Hours_Worked_Per_Week  Productivity_Score  \\\n",
       "0              1          Remote                     29                  75   \n",
       "1              2       In-Office                     45                  49   \n",
       "2              3          Remote                     34                  74   \n",
       "3              4          Remote                     25                  81   \n",
       "4              5          Remote                     50                  70   \n",
       "..           ...             ...                    ...                 ...   \n",
       "995          996          Remote                     33                  88   \n",
       "996          997          Remote                     33                  88   \n",
       "997          998       In-Office                     45                  74   \n",
       "998          999       In-Office                     57                  50   \n",
       "999         1000          Remote                     34                  80   \n",
       "\n",
       "     Well_Being_Score  \n",
       "0                  78  \n",
       "1                  47  \n",
       "2                  89  \n",
       "3                  84  \n",
       "4                  74  \n",
       "..                ...  \n",
       "995                82  \n",
       "996                73  \n",
       "997                61  \n",
       "998                52  \n",
       "999                82  \n",
       "\n",
       "[1000 rows x 5 columns]"
      ]
     },
     "execution_count": 3,
     "metadata": {},
     "output_type": "execute_result"
    }
   ],
   "source": [
    "df"
   ]
  },
  {
   "cell_type": "code",
   "execution_count": 4,
   "id": "5934b056-df8c-48aa-8b71-6e699b06d361",
   "metadata": {},
   "outputs": [
    {
     "data": {
      "image/png": "[encoded data removed]",
      "text/plain": [
       "<Figure size 640x480 with 1 Axes>"
      ]
     },
     "metadata": {},
     "output_type": "display_data"
    }
   ],
   "source": [
    "import matplotlib.pyplot as plt\n",
    "\n",
    "# Filter the data for 'Remote' and 'In-Office'\n",
    "df_re = df[df[\"Employment_Type\"] == \"Remote\"]\n",
    "df_in = df[df[\"Employment_Type\"] == \"In-Office\"]\n",
    "\n",
    "# Calculate the average productivity score for both types\n",
    "x = ['Remote', 'In-Office']\n",
    "y = [df_re['Productivity_Score'].mean(), df_in['Productivity_Score'].mean()]\n",
    "\n",
    "# Create the bar graph\n",
    "plt.bar(x, y)\n",
    "\n",
    "# Add title and labels\n",
    "plt.title('Remote vs In-Office Productivity')\n",
    "plt.xlabel('Employment Type')\n",
    "plt.ylabel('Average Productivity Score')\n",
    "\n",
    "# Show the plot\n",
    "plt.show()"
   ]
  },
  {
   "cell_type": "code",
   "execution_count": 5,
   "id": "2533d0d0-217f-4469-9af9-a4f592a4630d",
   "metadata": {},
   "outputs": [
    {
     "data": {
      "image/png": "[encoded data removed]",
      "text/plain": [
       "<Figure size 640x480 with 1 Axes>"
      ]
     },
     "metadata": {},
     "output_type": "display_data"
    }
   ],
   "source": [
    "\n",
    "z = [df_re['Well_Being_Score'].mean(), df_in['Well_Being_Score'].mean()]\n",
    "# Create the bar graph\n",
    "plt.bar(x, z)\n",
    "\n",
    "# Add title and labels\n",
    "plt.title('Remote vs in office well being')\n",
    "plt.xlabel('Employment Type')\n",
    "plt.ylabel('Average Wellbeing')\n",
    "\n",
    "# Show the plot\n",
    "plt.show()"
   ]
  },
  {
   "cell_type": "code",
   "execution_count": null,
   "id": "aed40c42-1477-4e85-89e6-d71414c9584f",
   "metadata": {},
   "outputs": [],
   "source": []
  }
 ],
 "metadata": {
  "kernelspec": {
   "display_name": "Python 3 (ipykernel)",
   "language": "python",
   "name": "python3"
  },
  "language_info": {
   "codemirror_mode": {
    "name": "ipython",
    "version": 3
   },
   "file_extension": ".py",
   "mimetype": "text/x-python",
   "name": "python",
   "nbconvert_exporter": "python",
   "pygments_lexer": "ipython3",
   "version": "3.11.7"
  }
 },
 "nbformat": 4,
 "nbformat_minor": 5
}
